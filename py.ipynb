{
  "nbformat": 4,
  "nbformat_minor": 0,
  "metadata": {
    "kernelspec": {
      "display_name": "Python 3",
      "language": "python",
      "name": "python3"
    },
    "language_info": {
      "codemirror_mode": {
        "name": "ipython",
        "version": 3
      },
      "file_extension": ".py",
      "mimetype": "text/x-python",
      "name": "python",
      "nbconvert_exporter": "python",
      "pygments_lexer": "ipython3",
      "version": "3.8.5"
    },
    "colab": {
      "name": "py.ipynb",
      "provenance": [],
      "collapsed_sections": [],
      "include_colab_link": true
    }
  },
  "cells": [
    {
      "cell_type": "markdown",
      "metadata": {
        "id": "view-in-github",
        "colab_type": "text"
      },
      "source": [
        "<a href=\"https://colab.research.google.com/github/Hsabonchi/-Firefox-Test-automation/blob/master/py.ipynb\" target=\"_parent\"><img src=\"https://colab.research.google.com/assets/colab-badge.svg\" alt=\"Open In Colab\"/></a>"
      ]
    },
    {
      "cell_type": "code",
      "metadata": {
        "id": "L27YVWdTHU0x"
      },
      "source": [
        "# pip install yfinance\n",
        "# pip install requests_cache\n"
      ],
      "execution_count": 1337,
      "outputs": []
    },
    {
      "cell_type": "code",
      "metadata": {
        "id": "44MjjgWbdm6P"
      },
      "source": [
        "\n",
        "import pandas as pd\n",
        "import pandas_datareader.data as web\n",
        "import numpy as np\n",
        "import matplotlib.pyplot as plt\n",
        "import datetime\n",
        "import time \n",
        "import yfinance as yf\n",
        "import requests_cache\n",
        "%matplotlib inline\n"
      ],
      "execution_count": 1338,
      "outputs": []
    },
    {
      "cell_type": "code",
      "metadata": {
        "id": "SShfABpcdm6R"
      },
      "source": [
        "# ___variables___\n",
        "ticker = 'BA'\n",
        "# start and end date of historical data\n",
        "start = datetime.datetime(2013, 1, 1)\n",
        "end = datetime.datetime(2020, 12, 29)\n",
        "\n",
        "# you need this line for real live data\n",
        "# end = datetime.datetime.now().date().isoformat()         # today\n",
        "\n",
        "\n",
        "# To avoid yahoo finnaince blocking\n",
        "expire_after = datetime.timedelta(days=3)\n",
        "session = requests_cache.CachedSession(cache_name='cache', backend='sqlite', expire_after=expire_after)\n"
      ],
      "execution_count": 1339,
      "outputs": []
    },
    {
      "cell_type": "code",
      "metadata": {
        "colab": {
          "base_uri": "https://localhost:8080/"
        },
        "id": "S19hDkyudm6R",
        "outputId": "426c96de-d080-47c3-c309-100535743dbc"
      },
      "source": [
        "# yahoo gives only daily historical data server\n",
        "connected = False\n",
        "while not connected:\n",
        "    try:\n",
        "        ticker_df = web.get_data_yahoo(ticker, start, end,interval =\"d\",session=session)\n",
        "        connected = True\n",
        "        print('connected to yahoo')\n",
        "    except Exception as e:\n",
        "        print(\"type error: \" + str(e))\n",
        "        time.sleep( 5 )\n",
        "        pass   \n",
        "\n",
        "# use numerical integer index instead of date    \n",
        "ticker_df = ticker_df.reset_index()\n",
        "# print(ticker_df.head(5))"
      ],
      "execution_count": 1340,
      "outputs": [
        {
          "output_type": "stream",
          "text": [
            "connected to yahoo\n"
          ],
          "name": "stdout"
        }
      ]
    },
    {
      "cell_type": "markdown",
      "metadata": {
        "id": "YNzIZGQGdm6S"
      },
      "source": [
        "### Compute RSI\n",
        "#### RSI Method"
      ]
    },
    {
      "cell_type": "code",
      "metadata": {
        "id": "zS-EkDfJdm6T"
      },
      "source": [
        "df = ticker_df\n",
        "def RSI(data, time_window):\n",
        "    diff = data.diff(1).dropna()        # diff in one field(one day)\n",
        "    #this preservers dimensions off diff values\n",
        "    up_chg = 0 * diff\n",
        "    down_chg = 0 * diff\n",
        "    # up change is equal to the positive difference, otherwise equal to zero\n",
        "    up_chg[diff > 0] = diff[ diff>0 ]\n",
        "    # down change is equal to negative deifference, otherwise equal to zero\n",
        "    down_chg[diff < 0] = diff[ diff < 0 ]\n",
        "    # we set com=time_window-1 so we get decay alpha=1/time_window\n",
        "    up_chg_avg   = up_chg.ewm(com=time_window-1 , min_periods=time_window).mean()\n",
        "    down_chg_avg = down_chg.ewm(com=time_window-1 , min_periods=time_window).mean()\n",
        "    rs = abs(up_chg_avg/down_chg_avg)\n",
        "    rsi = 100 - 100/(1+rs)\n",
        "    return rsi\n",
        "df['RSI'] = RSI(df['Close'], 14)"
      ],
      "execution_count": 1341,
      "outputs": []
    },
    {
      "cell_type": "markdown",
      "metadata": {
        "id": "sbeWewgTf0At"
      },
      "source": [
        "#### Calculating ROC "
      ]
    },
    {
      "cell_type": "code",
      "metadata": {
        "id": "d08U5HtMdm6T"
      },
      "source": [
        "def ROC(df, n):  \n",
        "    M = df.diff(n)  \n",
        "    N = df.shift(n)  \n",
        "    ROC = pd.Series(((M / N) * 100), name = 'ROC_' + str(n))   \n",
        "    return ROC\n",
        "    \n",
        "df['ROC'] = ROC(df['Close'], 9)"
      ],
      "execution_count": 1342,
      "outputs": []
    },
    {
      "cell_type": "code",
      "metadata": {
        "id": "53izqJbVdm6U"
      },
      "source": [
        "def isRSI(indexOfdf,oversold=30,oversoldThreshold=33,overbought=70,overboughtThreshold=73):\n",
        "          \n",
        "          # Time to buy , check if the RSI within the range of 30 - 33\n",
        "          if float(df.iloc[indexOfdf, :]['RSI']) >= float(oversold) and (df.iloc[indexOfdf, :]['RSI']) <= float(oversoldThreshold):\n",
        "              current_RSI1 = df.iloc[indexOfdf, :]['RSI']\n",
        "              prev_RSI1 = df.iloc[indexOfdf-1, :]['RSI']  \n",
        "              if (prev_RSI1 < current_RSI1 ): \n",
        "                      return True       \n",
        "              # time to sell\n",
        "              elif float(df.iloc[indexOfdf, :]['RSI']) >= float(overbought) and (df.iloc[indexOfdf, :]['RSI']) <= float(overboughtThreshold):\n",
        "                      current_RSI2 = df.iloc[indexOfdf, :]['RSI']\n",
        "                      prev_RSI2 = df.iloc[indexOfdf-1, :]['RSI']\n",
        "                      if  prev_RSI2 > current_RSI2:\n",
        "                              return False\n",
        "                                    "
      ],
      "execution_count": 1343,
      "outputs": []
    },
    {
      "cell_type": "code",
      "metadata": {
        "id": "e5R1GvQfMl0q"
      },
      "source": [
        ""
      ],
      "execution_count": 1343,
      "outputs": []
    },
    {
      "cell_type": "code",
      "metadata": {
        "id": "UK7kbtci3zJP"
      },
      "source": [
        "def isROC(index):\n",
        "    # ROC less than zero to buy  means true when we call the isROC(index)\n",
        "\n",
        "    return df.iloc[index,:]['ROC'] < 0\n"
      ],
      "execution_count": 1344,
      "outputs": []
    },
    {
      "cell_type": "code",
      "metadata": {
        "id": "IVkcHL4ZtYyJ"
      },
      "source": [
        "### startDate is the starting date to buy.\n",
        "## endDate  is the ending date to buy\n",
        "## buyingPower is a budget that customer wants to invest\n",
        "### dayThreshold. \"Number of stockes to buy per day\"\n",
        "### weekThreshold \"Number of stockes to buy per week\"\n",
        "### spendingThreshold per month \n",
        "### isrealTime=False False means going over historical data.\n",
        "\n",
        "def buyStock (startDate,endDate,buyingPower,spendingThreshold,dayThreshold=1,weekThreshold=5,isrealTime=False,oversold=30,oversoldThreshold=33,overbought=70,overboughtThreshold=73):\n",
        "  print(f\"startDate{startDate}: endDate {endDate} \")\n",
        "  totalNumStock=0\n",
        "  # check the funds first\n",
        "  if buyingPower > 0:\n",
        "      if isrealTime == True:\n",
        "          print(\"Working on real time data\")\n",
        "        # Working on offline data.\n",
        "      else:   # loop over the dataframe  to get the start date.\n",
        "            print('looping over the dataframe  to get the start date.')\n",
        "            for index, row in df.iterrows():\n",
        "                  date=df.iloc[index, :]['Date'].date().strftime('%Y-%m-%d') \n",
        "                  dayThresholdCount=0\n",
        "                  # print(f\"outise if {index} :  {date}\")\n",
        "                  if startDate >= date:\n",
        "                            # print(f\"insise loop {index} :{date}\")\n",
        "                                # Check the RSI & ROC (later we will add more indicator in this statment)\n",
        "                            if isRSI(index) == True and isROC(index)== True:\n",
        "                                 \n",
        "                                        # check the buyingPower is greater than or equal price\n",
        "                                  if buyingPower >=row ['Close']:\n",
        "                                          # Check if we reached to the limit of the number of stock in a specific day(dayThreshold)\n",
        "                                          if dayThresholdCount < dayThreshold:\n",
        "                                                # increment the \"dayThresholdCount\" by dayThreshold\n",
        "                                                dayThresholdCount=dayThresholdCount+dayThreshold\n",
        "                                                totalNumStock=totalNumStock+dayThreshold\n",
        "                                                # Decrement buyingPower by closing price\n",
        "                                                buyingPower=buyingPower-row ['Close']\n",
        "                                                print (f\"bought a stck {row ['Close']} on: {date} mybuget is - {buyingPower} \")\n",
        "                                                \n",
        "\n",
        "                                                \n",
        "                          \n",
        "                                          else:      \n",
        "                                              print (\"You have reached your daily threshold \") \n",
        "                                              return  buyingPower,totalNumStock,dayThresholdCount        \n",
        "                            else:\n",
        "                              continue\n",
        "                                  # print (f\"RSI and ROC do not allow us to buy {date}\")\n",
        "                       \n",
        "  else:\n",
        "      print(\"Buying Power is not sufficient\")\n",
        "\n",
        "\n",
        "\n"
      ],
      "execution_count": 1345,
      "outputs": []
    },
    {
      "cell_type": "code",
      "metadata": {
        "colab": {
          "base_uri": "https://localhost:8080/"
        },
        "id": "_Azq4cuI5HRA",
        "outputId": "200154ae-4df7-434e-acad-540c046d4399"
      },
      "source": [
        "buyStock('2020-03-04','2020-03-30',600,100)\n"
      ],
      "execution_count": 1346,
      "outputs": [
        {
          "output_type": "stream",
          "text": [
            "startDate2020-03-04: endDate 2020-03-30 \n",
            "looping over the dataframe  to get the start date.\n",
            "bought a stck 122.08000183105469 on: 2014-12-15 mybuget is - 477.9199981689453 \n",
            "bought a stck 141.49000549316406 on: 2015-05-07 mybuget is - 336.42999267578125 \n",
            "bought a stck 129.33999633789062 on: 2015-08-26 mybuget is - 207.08999633789062 \n",
            "bought a stck 129.1999969482422 on: 2016-01-14 mybuget is - 77.88999938964844 \n"
          ],
          "name": "stdout"
        }
      ]
    },
    {
      "cell_type": "code",
      "metadata": {
        "colab": {
          "base_uri": "https://localhost:8080/"
        },
        "id": "pq17XJGwO_No",
        "outputId": "e08860fe-c8d0-4a57-f257-511c5f5b6719"
      },
      "source": [
        " isROC(1804)== True"
      ],
      "execution_count": 1347,
      "outputs": [
        {
          "output_type": "execute_result",
          "data": {
            "text/plain": [
              "True"
            ]
          },
          "metadata": {
            "tags": []
          },
          "execution_count": 1347
        }
      ]
    },
    {
      "cell_type": "code",
      "metadata": {
        "id": "ry87bF8qkQ99",
        "colab": {
          "base_uri": "https://localhost:8080/"
        },
        "outputId": "3d97cdaa-e4be-4147-bb38-3972f32d7dc6"
      },
      "source": [
        "# 1) main functio (interval h,d,w)\n",
        "  # get data and create df\n",
        "  #calucalte RSI and ROC\n",
        "df.iloc[1804, :]['ROC']"
      ],
      "execution_count": 1348,
      "outputs": [
        {
          "output_type": "execute_result",
          "data": {
            "text/plain": [
              "-15.80825617196421"
            ]
          },
          "metadata": {
            "tags": []
          },
          "execution_count": 1348
        }
      ]
    },
    {
      "cell_type": "code",
      "metadata": {
        "colab": {
          "base_uri": "https://localhost:8080/"
        },
        "id": "zHpwaMfj-i00",
        "outputId": "11e1e54b-0571-45aa-81a8-fa0cc2640193"
      },
      "source": [
        "df.iloc[1810, :]['Date'].date().strftime('%Y-%m-%d')=='2020-03-04'"
      ],
      "execution_count": 1349,
      "outputs": [
        {
          "output_type": "execute_result",
          "data": {
            "text/plain": [
              "False"
            ]
          },
          "metadata": {
            "tags": []
          },
          "execution_count": 1349
        }
      ]
    },
    {
      "cell_type": "code",
      "metadata": {
        "colab": {
          "base_uri": "https://localhost:8080/"
        },
        "id": "sJP8EwDj9gwp",
        "outputId": "0a40a4c4-1757-4d10-c48f-78294ecc210c"
      },
      "source": [
        "#df.loc[[20],['Date']].strftime('%Y-%m-%d')=='2020-03-07'\n",
        "df.iloc[20, :]['Date'].date().strftime('%Y-%m-%d')=='2020-03-07'"
      ],
      "execution_count": 1350,
      "outputs": [
        {
          "output_type": "execute_result",
          "data": {
            "text/plain": [
              "False"
            ]
          },
          "metadata": {
            "tags": []
          },
          "execution_count": 1350
        }
      ]
    },
    {
      "cell_type": "code",
      "metadata": {
        "id": "kg55ACbao2RP"
      },
      "source": [
        "# def buyStock():\n",
        "#     return 'abc', 10\n",
        "# result=test()\n",
        "# result[1]"
      ],
      "execution_count": 1351,
      "outputs": []
    },
    {
      "cell_type": "code",
      "metadata": {
        "id": "YHGlVMzTHdgI"
      },
      "source": [
        "# def buyStock (startDate,endDate,buyingPower,spendingThreshold,dayThreshold=1,weekThreshold=5,isrealTime=False,oversold=30,oversoldThreshold=33,overbought=70,overboughtThreshold=73):\n",
        "#   print(f\"startDate{startDate}: endDate {endDate} \")\n",
        "#   totalNumStock=0\n",
        "#   # check the funds first\n",
        "#   if buyingPower > 0:\n",
        "#     if isrealTime == True:\n",
        "#         print(\"Working on real time data\")\n",
        "#       # Working on offline data.\n",
        "#       else:   # loop over the dataframe  to get the start date.\n",
        "#               for index, row in df.iterrows():\n",
        "#                 #daily counter\n",
        "#                 dayThresholdCount=0\n",
        "#                 if row['Date'].date().strftime('%Y-%m-%d')==startDate and row['Date'].date().strftime('%Y-%m-%d')<= endDate:\n",
        "#                               date=row['Date'].date() \n",
        "#                               # debugging purpose\n",
        "#                               # print(date)\n",
        "#                               # Check the RSI & ROC (later we will add more indicator in this statment)\n",
        "#                               print(index)\n",
        "#                               if isRSI(index) == True and isROC(index)== True:\n",
        "#                                 print (\"isRSI(index) == True and isROC(index)== True]\")\n",
        "#                                 # check the buyingPower is greater than or equal price\n",
        "#                                 if buyingPower >=row ['Close']:\n",
        "#                                   print (\"buyingPower >=row ['Close']\")\n",
        "#                                   # Check if we reached to the limit of the number of stock in a specific day(dayThreshold)\n",
        "#                                   if dayThresholdCount < dayThreshold:\n",
        "#                                         print (\"dayThresholdCount < dayThreshold\")\n",
        "#                                         # increment the \"dayThresholdCount\" by dayThreshold\n",
        "#                                         dayThresholdCount=dayThresholdCount+dayThreshold\n",
        "#                                         totalNumStock=totalNumStock+dayThreshold\n",
        "#                                         # Decrement buyingPower by closing price\n",
        "#                                         buyingPower=buyingPower-row ['Close']\n",
        "#                                         print (\"buy \")\n",
        "#                                         # return  buyingPower,totalNumStock,dayThresholdCount\n",
        "                  \n",
        "#                                   else:      \n",
        "#                                       print (\"You have reached your daily threshold \")\n",
        "#                                 else:\n",
        "#                                      print (\"Buying Power is not sufficient\")\n",
        "#                                      return \n",
        "#                                      break\n",
        "\n",
        "      \n",
        "#   else:\n",
        "#       print(f\"RSI and ROC do not allow us to buy \")"
      ],
      "execution_count": 1352,
      "outputs": []
    }
  ]
}